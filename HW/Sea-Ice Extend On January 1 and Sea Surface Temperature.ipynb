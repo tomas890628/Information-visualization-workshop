{
 "cells": [
  {
   "cell_type": "markdown",
   "metadata": {},
   "source": [
    "海面溫度異常及海冰面積"
   ]
  },
  {
   "cell_type": "code",
   "execution_count": 88,
   "metadata": {},
   "outputs": [
    {
     "data": {
      "text/html": [
       "<div>\n",
       "<style scoped>\n",
       "    .dataframe tbody tr th:only-of-type {\n",
       "        vertical-align: middle;\n",
       "    }\n",
       "\n",
       "    .dataframe tbody tr th {\n",
       "        vertical-align: top;\n",
       "    }\n",
       "\n",
       "    .dataframe thead th {\n",
       "        text-align: right;\n",
       "    }\n",
       "</style>\n",
       "<table border=\"1\" class=\"dataframe\">\n",
       "  <thead>\n",
       "    <tr style=\"text-align: right;\">\n",
       "      <th></th>\n",
       "      <th>Years</th>\n",
       "      <th>Sea Surface Temperature Anomaly</th>\n",
       "      <th>Sea-Ice-Extent On January1</th>\n",
       "      <th>Carbon Dioxide (ppm)</th>\n",
       "    </tr>\n",
       "  </thead>\n",
       "  <tbody>\n",
       "    <tr>\n",
       "      <td>0</td>\n",
       "      <td>2010</td>\n",
       "      <td>0.612718</td>\n",
       "      <td>13.205</td>\n",
       "      <td>390</td>\n",
       "    </tr>\n",
       "    <tr>\n",
       "      <td>1</td>\n",
       "      <td>2011</td>\n",
       "      <td>0.428674</td>\n",
       "      <td>12.896</td>\n",
       "      <td>392</td>\n",
       "    </tr>\n",
       "    <tr>\n",
       "      <td>2</td>\n",
       "      <td>2012</td>\n",
       "      <td>0.528696</td>\n",
       "      <td>7.572</td>\n",
       "      <td>394</td>\n",
       "    </tr>\n",
       "    <tr>\n",
       "      <td>3</td>\n",
       "      <td>2013</td>\n",
       "      <td>0.584674</td>\n",
       "      <td>12.959</td>\n",
       "      <td>397</td>\n",
       "    </tr>\n",
       "    <tr>\n",
       "      <td>4</td>\n",
       "      <td>2014</td>\n",
       "      <td>0.751255</td>\n",
       "      <td>8.546</td>\n",
       "      <td>399</td>\n",
       "    </tr>\n",
       "    <tr>\n",
       "      <td>5</td>\n",
       "      <td>2015</td>\n",
       "      <td>0.935577</td>\n",
       "      <td>13.073</td>\n",
       "      <td>402</td>\n",
       "    </tr>\n",
       "  </tbody>\n",
       "</table>\n",
       "</div>"
      ],
      "text/plain": [
       "   Years  Sea Surface Temperature Anomaly  Sea-Ice-Extent On January1  \\\n",
       "0   2010                         0.612718                      13.205   \n",
       "1   2011                         0.428674                      12.896   \n",
       "2   2012                         0.528696                       7.572   \n",
       "3   2013                         0.584674                      12.959   \n",
       "4   2014                         0.751255                       8.546   \n",
       "5   2015                         0.935577                      13.073   \n",
       "\n",
       "   Carbon Dioxide (ppm)  \n",
       "0                   390  \n",
       "1                   392  \n",
       "2                   394  \n",
       "3                   397  \n",
       "4                   399  \n",
       "5                   402  "
      ]
     },
     "execution_count": 88,
     "metadata": {},
     "output_type": "execute_result"
    }
   ],
   "source": [
    "%matplotlib inline\n",
    "import matplotlib.pyplot as plt\n",
    "import pandas as pd\n",
    "import numpy as np\n",
    "\n",
    "sea_data=pd.read_csv('sea.csv')\n",
    "sea_data"
   ]
  },
  {
   "cell_type": "code",
   "execution_count": 94,
   "metadata": {},
   "outputs": [
    {
     "data": {
      "image/png": "[encoded data removed]",
      "text/plain": [
       "<Figure size 1080x504 with 1 Axes>"
      ]
     },
     "metadata": {
      "needs_background": "light"
     },
     "output_type": "display_data"
    }
   ],
   "source": [
    "import numpy as np\n",
    "import matplotlib.pyplot as plt\n",
    "\n",
    "x = sea_data['Years']\n",
    "y = sea_data['Sea Surface Temperature Anomaly']\n",
    "z = sea_data['Sea-Ice-Extent On January1']\n",
    "r = sea_data['Carbon Dioxide (ppm)']\n",
    "\n",
    "plt.figure(figsize=(15,7))\n",
    "plt.title(\"Sea-Ice-Extent On 1/1 And Surface Temperature\")\n",
    "plt.xlabel(\"Years\")\n",
    "plt.ylabel(\"Sea Surface Temperature Anomaly ℉\")\n",
    "\n",
    "colors=[(135/255,0/255,0/255),(137/255,0/255,0/255),(139/255,0/255,0/255),(142/255,0/255,0/255),(144/255,0/255,0/255),(147/255,0/255,0/255)]\n",
    "area = (3 * z )**2\n",
    "\n",
    "\n",
    "plt.scatter(x, y, s=area,c=colors, alpha=1)\n",
    "plt.show()"
   ]
  },
  {
   "cell_type": "code",
   "execution_count": 89,
   "metadata": {},
   "outputs": [
    {
     "data": {
      "text/plain": [
       "0                                                 2010\n",
       "1                                                 2011\n",
       "2                                                 2012\n",
       "3                                                 2013\n",
       "4                                                 2014\n",
       "5                                                 2015\n",
       "6    https://www.epa.gov/sites/production/files/201...\n",
       "7    https://www.kaggle.com/nsidcorg/daily-sea-ice-...\n",
       "Name: Years, dtype: object"
      ]
     },
     "execution_count": 89,
     "metadata": {},
     "output_type": "execute_result"
    }
   ],
   "source": [
    "x"
   ]
  },
  {
   "cell_type": "code",
   "execution_count": null,
   "metadata": {},
   "outputs": [],
   "source": []
  }
 ],
 "metadata": {
  "kernelspec": {
   "display_name": "Python 3",
   "language": "python",
   "name": "python3"
  },
  "language_info": {
   "codemirror_mode": {
    "name": "ipython",
    "version": 3
   },
   "file_extension": ".py",
   "mimetype": "text/x-python",
   "name": "python",
   "nbconvert_exporter": "python",
   "pygments_lexer": "ipython3",
   "version": "3.7.4"
  }
 },
 "nbformat": 4,
 "nbformat_minor": 2
}
