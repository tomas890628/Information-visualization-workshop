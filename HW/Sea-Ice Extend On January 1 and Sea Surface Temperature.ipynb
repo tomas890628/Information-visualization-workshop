{
 "cells": [
  {
   "cell_type": "markdown",
   "metadata": {},
   "source": [
    "海面溫度異常及海冰面積"
   ]
  },
  {
   "cell_type": "code",
   "execution_count": 115,
   "metadata": {
    "scrolled": true
   },
   "outputs": [
    {
     "data": {
      "text/html": [
       "<div>\n",
       "<style scoped>\n",
       "    .dataframe tbody tr th:only-of-type {\n",
       "        vertical-align: middle;\n",
       "    }\n",
       "\n",
       "    .dataframe tbody tr th {\n",
       "        vertical-align: top;\n",
       "    }\n",
       "\n",
       "    .dataframe thead th {\n",
       "        text-align: right;\n",
       "    }\n",
       "</style>\n",
       "<table border=\"1\" class=\"dataframe\">\n",
       "  <thead>\n",
       "    <tr style=\"text-align: right;\">\n",
       "      <th></th>\n",
       "      <th>Years</th>\n",
       "      <th>Sea Surface Temperature Anomaly</th>\n",
       "      <th>Sea-Ice-Extent On January1</th>\n",
       "      <th>Carbon Dioxide (ppm)</th>\n",
       "    </tr>\n",
       "  </thead>\n",
       "  <tbody>\n",
       "    <tr>\n",
       "      <td>0</td>\n",
       "      <td>2000</td>\n",
       "      <td>0.232502</td>\n",
       "      <td>13.442</td>\n",
       "      <td>370</td>\n",
       "    </tr>\n",
       "    <tr>\n",
       "      <td>1</td>\n",
       "      <td>2001</td>\n",
       "      <td>0.404219</td>\n",
       "      <td>13.479</td>\n",
       "      <td>371</td>\n",
       "    </tr>\n",
       "    <tr>\n",
       "      <td>2</td>\n",
       "      <td>2002</td>\n",
       "      <td>0.467141</td>\n",
       "      <td>13.590</td>\n",
       "      <td>373</td>\n",
       "    </tr>\n",
       "    <tr>\n",
       "      <td>3</td>\n",
       "      <td>2003</td>\n",
       "      <td>0.525080</td>\n",
       "      <td>13.647</td>\n",
       "      <td>376</td>\n",
       "    </tr>\n",
       "    <tr>\n",
       "      <td>4</td>\n",
       "      <td>2004</td>\n",
       "      <td>0.494636</td>\n",
       "      <td>13.502</td>\n",
       "      <td>378</td>\n",
       "    </tr>\n",
       "    <tr>\n",
       "      <td>5</td>\n",
       "      <td>2005</td>\n",
       "      <td>0.532787</td>\n",
       "      <td>13.160</td>\n",
       "      <td>380</td>\n",
       "    </tr>\n",
       "    <tr>\n",
       "      <td>6</td>\n",
       "      <td>2006</td>\n",
       "      <td>0.511456</td>\n",
       "      <td>13.160</td>\n",
       "      <td>382</td>\n",
       "    </tr>\n",
       "    <tr>\n",
       "      <td>7</td>\n",
       "      <td>2007</td>\n",
       "      <td>0.384604</td>\n",
       "      <td>13.110</td>\n",
       "      <td>384</td>\n",
       "    </tr>\n",
       "    <tr>\n",
       "      <td>8</td>\n",
       "      <td>2008</td>\n",
       "      <td>0.367312</td>\n",
       "      <td>9.120</td>\n",
       "      <td>386</td>\n",
       "    </tr>\n",
       "    <tr>\n",
       "      <td>9</td>\n",
       "      <td>2009</td>\n",
       "      <td>0.589442</td>\n",
       "      <td>13.189</td>\n",
       "      <td>387</td>\n",
       "    </tr>\n",
       "    <tr>\n",
       "      <td>10</td>\n",
       "      <td>2010</td>\n",
       "      <td>0.612718</td>\n",
       "      <td>13.205</td>\n",
       "      <td>390</td>\n",
       "    </tr>\n",
       "    <tr>\n",
       "      <td>11</td>\n",
       "      <td>2011</td>\n",
       "      <td>0.428674</td>\n",
       "      <td>12.896</td>\n",
       "      <td>392</td>\n",
       "    </tr>\n",
       "    <tr>\n",
       "      <td>12</td>\n",
       "      <td>2012</td>\n",
       "      <td>0.528696</td>\n",
       "      <td>7.572</td>\n",
       "      <td>394</td>\n",
       "    </tr>\n",
       "    <tr>\n",
       "      <td>13</td>\n",
       "      <td>2013</td>\n",
       "      <td>0.584674</td>\n",
       "      <td>12.959</td>\n",
       "      <td>397</td>\n",
       "    </tr>\n",
       "    <tr>\n",
       "      <td>14</td>\n",
       "      <td>2014</td>\n",
       "      <td>0.751255</td>\n",
       "      <td>8.546</td>\n",
       "      <td>399</td>\n",
       "    </tr>\n",
       "    <tr>\n",
       "      <td>15</td>\n",
       "      <td>2015</td>\n",
       "      <td>0.935577</td>\n",
       "      <td>13.073</td>\n",
       "      <td>402</td>\n",
       "    </tr>\n",
       "  </tbody>\n",
       "</table>\n",
       "</div>"
      ],
      "text/plain": [
       "    Years  Sea Surface Temperature Anomaly  Sea-Ice-Extent On January1  \\\n",
       "0    2000                         0.232502                      13.442   \n",
       "1    2001                         0.404219                      13.479   \n",
       "2    2002                         0.467141                      13.590   \n",
       "3    2003                         0.525080                      13.647   \n",
       "4    2004                         0.494636                      13.502   \n",
       "5    2005                         0.532787                      13.160   \n",
       "6    2006                         0.511456                      13.160   \n",
       "7    2007                         0.384604                      13.110   \n",
       "8    2008                         0.367312                       9.120   \n",
       "9    2009                         0.589442                      13.189   \n",
       "10   2010                         0.612718                      13.205   \n",
       "11   2011                         0.428674                      12.896   \n",
       "12   2012                         0.528696                       7.572   \n",
       "13   2013                         0.584674                      12.959   \n",
       "14   2014                         0.751255                       8.546   \n",
       "15   2015                         0.935577                      13.073   \n",
       "\n",
       "    Carbon Dioxide (ppm)  \n",
       "0                    370  \n",
       "1                    371  \n",
       "2                    373  \n",
       "3                    376  \n",
       "4                    378  \n",
       "5                    380  \n",
       "6                    382  \n",
       "7                    384  \n",
       "8                    386  \n",
       "9                    387  \n",
       "10                   390  \n",
       "11                   392  \n",
       "12                   394  \n",
       "13                   397  \n",
       "14                   399  \n",
       "15                   402  "
      ]
     },
     "execution_count": 115,
     "metadata": {},
     "output_type": "execute_result"
    }
   ],
   "source": [
    "%matplotlib inline\n",
    "import matplotlib.pyplot as plt\n",
    "import pandas as pd\n",
    "import numpy as np\n",
    "\n",
    "sea_data=pd.read_csv('sea.csv')\n",
    "sea_data"
   ]
  },
  {
   "cell_type": "code",
   "execution_count": 116,
   "metadata": {
    "scrolled": false
   },
   "outputs": [
    {
     "data": {
      "image/png": "[encoded data removed]",
      "text/plain": [
       "<Figure size 1080x504 with 1 Axes>"
      ]
     },
     "metadata": {
      "needs_background": "light"
     },
     "output_type": "display_data"
    }
   ],
   "source": [
    "import numpy as np\n",
    "import matplotlib.pyplot as plt\n",
    "\n",
    "x = sea_data['Years']\n",
    "y = sea_data['Sea Surface Temperature Anomaly']\n",
    "z = sea_data['Sea-Ice-Extent On January1']\n",
    "r = sea_data['Carbon Dioxide (ppm)']\n",
    "\n",
    "plt.figure(figsize=(15,7))\n",
    "plt.title(\"Sea-Ice-Extent On 1/1 And Surface Temperature\")\n",
    "plt.xlabel(\"Years\")\n",
    "plt.ylabel(\"Sea Surface Temperature Anomaly ℉\")\n",
    "\n",
    "colors=[(255/255,0/255,0/255),(248/255,0/255,0/255),(232/255,0/255,0/255),(208/255,0/255,0/255),(192/255,0/255,0/255),(176/255,0/255,0/255)\n",
    "       ,(160/255,0/255,0/255),(144/255,0/255,0/255),(128/255,0/255,0/255),(120/255,0/255,0/255),(96/255,0/255,0/255),(80/255,0/255,0/255)\n",
    "       ,(64/255,0/255,0/255),(40/255,0/255,0/255),(24/255,0/255,0/255),(0/255,0/255,0/255)]\n",
    "area = (3 * z )**2\n",
    "\n",
    "\n",
    "\n",
    "plt.scatter(x, y, s=area,c=colors, alpha=1)\n",
    "plt.show()"
   ]
  },
  {
   "cell_type": "code",
   "execution_count": 95,
   "metadata": {
    "scrolled": true
   },
   "outputs": [
    {
     "data": {
      "text/plain": [
       "0    2010\n",
       "1    2011\n",
       "2    2012\n",
       "3    2013\n",
       "4    2014\n",
       "5    2015\n",
       "Name: Years, dtype: int64"
      ]
     },
     "execution_count": 95,
     "metadata": {},
     "output_type": "execute_result"
    }
   ],
   "source": [
    "x"
   ]
  },
  {
   "cell_type": "code",
   "execution_count": null,
   "metadata": {
    "scrolled": true
   },
   "outputs": [],
   "source": []
  },
  {
   "cell_type": "code",
   "execution_count": null,
   "metadata": {
    "scrolled": true
   },
   "outputs": [],
   "source": []
  }
 ],
 "metadata": {
  "kernelspec": {
   "display_name": "Python 3",
   "language": "python",
   "name": "python3"
  },
  "language_info": {
   "codemirror_mode": {
    "name": "ipython",
    "version": 3
   },
   "file_extension": ".py",
   "mimetype": "text/x-python",
   "name": "python",
   "nbconvert_exporter": "python",
   "pygments_lexer": "ipython3",
   "version": "3.7.4"
  }
 },
 "nbformat": 4,
 "nbformat_minor": 2
}
