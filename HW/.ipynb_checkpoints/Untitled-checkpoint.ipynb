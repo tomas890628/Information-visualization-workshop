{
 "cells": [
  {
   "cell_type": "markdown",
   "metadata": {},
   "source": [
    "海面溫度及海冰面積"
   ]
  },
  {
   "cell_type": "code",
   "execution_count": 5,
   "metadata": {},
   "outputs": [
    {
     "data": {
      "text/html": [
       "<div>\n",
       "<style scoped>\n",
       "    .dataframe tbody tr th:only-of-type {\n",
       "        vertical-align: middle;\n",
       "    }\n",
       "\n",
       "    .dataframe tbody tr th {\n",
       "        vertical-align: top;\n",
       "    }\n",
       "\n",
       "    .dataframe thead th {\n",
       "        text-align: right;\n",
       "    }\n",
       "</style>\n",
       "<table border=\"1\" class=\"dataframe\">\n",
       "  <thead>\n",
       "    <tr style=\"text-align: right;\">\n",
       "      <th></th>\n",
       "      <th>Years</th>\n",
       "      <th>Sea Surface Temperature</th>\n",
       "      <th>sea-ice-extent in 1/1</th>\n",
       "    </tr>\n",
       "  </thead>\n",
       "  <tbody>\n",
       "    <tr>\n",
       "      <th>0</th>\n",
       "      <td>2000</td>\n",
       "      <td>0.232502</td>\n",
       "      <td>13.442</td>\n",
       "    </tr>\n",
       "    <tr>\n",
       "      <th>1</th>\n",
       "      <td>2001</td>\n",
       "      <td>0.404219</td>\n",
       "      <td>13.479</td>\n",
       "    </tr>\n",
       "    <tr>\n",
       "      <th>2</th>\n",
       "      <td>2002</td>\n",
       "      <td>0.467141</td>\n",
       "      <td>13.590</td>\n",
       "    </tr>\n",
       "    <tr>\n",
       "      <th>3</th>\n",
       "      <td>2003</td>\n",
       "      <td>0.525080</td>\n",
       "      <td>13.647</td>\n",
       "    </tr>\n",
       "    <tr>\n",
       "      <th>4</th>\n",
       "      <td>2004</td>\n",
       "      <td>0.494636</td>\n",
       "      <td>13.502</td>\n",
       "    </tr>\n",
       "  </tbody>\n",
       "</table>\n",
       "</div>"
      ],
      "text/plain": [
       "  Years  Sea Surface Temperature  sea-ice-extent in 1/1\n",
       "0  2000                 0.232502                 13.442\n",
       "1  2001                 0.404219                 13.479\n",
       "2  2002                 0.467141                 13.590\n",
       "3  2003                 0.525080                 13.647\n",
       "4  2004                 0.494636                 13.502"
      ]
     },
     "execution_count": 5,
     "metadata": {},
     "output_type": "execute_result"
    }
   ],
   "source": [
    "%matplotlib inline\n",
    "import matplotlib.pyplot as plt\n",
    "import pandas as pd\n",
    "import numpy as np\n",
    "\n",
    "sea_data=pd.read_csv('sea surface temp.csv')\n",
    "sea_data.head()"
   ]
  },
  {
   "cell_type": "code",
   "execution_count": 11,
   "metadata": {},
   "outputs": [
    {
     "data": {
      "image/png": "[encoded data removed]",
      "text/plain": [
       "<Figure size 432x288 with 1 Axes>"
      ]
     },
     "metadata": {
      "needs_background": "light"
     },
     "output_type": "display_data"
    }
   ],
   "source": [
    "import numpy as np\n",
    "import matplotlib.pyplot as plt\n",
    "\n",
    "x = sea_data['Years']\n",
    "y = sea_data['Sea Surface Temperature']\n",
    "z = sea_data['sea-ice-extent in 1/1']\n",
    "\n",
    "plt.title(\"Electric Power Consumption and GDP Growth\")\n",
    "plt.xlabel(\"Years\")\n",
    "plt.ylabel(\"sea-ice-extent\")\n",
    "\n",
    "colors = np.random.rand(8)\n",
    "area = (1 * z )**2\n",
    "\n",
    "plt.scatter(x, y, s=area, alpha=0.5)\n",
    "plt.show()"
   ]
  },
  {
   "cell_type": "code",
   "execution_count": 13,
   "metadata": {},
   "outputs": [
    {
     "data": {
      "text/plain": [
       "0                                                  2000\n",
       "1                                                  2001\n",
       "2                                                  2002\n",
       "3                                                  2003\n",
       "4                                                  2004\n",
       "5                                                  2005\n",
       "6                                                  2006\n",
       "7                                                  2007\n",
       "8                                                  2008\n",
       "9                                                  2009\n",
       "10                                                 2010\n",
       "11                                                 2011\n",
       "12                                                 2012\n",
       "13                                                 2013\n",
       "14                                                 2014\n",
       "15                                                 2015\n",
       "16    https://www.epa.gov/sites/production/files/201...\n",
       "17    https://www.kaggle.com/nsidcorg/daily-sea-ice-...\n",
       "Name: Years, dtype: object"
      ]
     },
     "execution_count": 13,
     "metadata": {},
     "output_type": "execute_result"
    }
   ],
   "source": [
    "x = sea_data['Years']\n",
    "x"
   ]
  },
  {
   "cell_type": "code",
   "execution_count": null,
   "metadata": {},
   "outputs": [],
   "source": []
  }
 ],
 "metadata": {
  "kernelspec": {
   "display_name": "Python 3",
   "language": "python",
   "name": "python3"
  },
  "language_info": {
   "codemirror_mode": {
    "name": "ipython",
    "version": 3
   },
   "file_extension": ".py",
   "mimetype": "text/x-python",
   "name": "python",
   "nbconvert_exporter": "python",
   "pygments_lexer": "ipython3",
   "version": "3.7.3"
  }
 },
 "nbformat": 4,
 "nbformat_minor": 2
}
